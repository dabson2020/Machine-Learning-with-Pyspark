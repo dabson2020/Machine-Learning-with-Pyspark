{
 "cells": [
  {
   "cell_type": "code",
   "execution_count": 1,
   "metadata": {},
   "outputs": [],
   "source": [
    "import findspark"
   ]
  },
  {
   "cell_type": "code",
   "execution_count": 2,
   "metadata": {},
   "outputs": [],
   "source": [
    "findspark.init('/home/adeola/spark-2.4.2-bin-hadoop2.7')"
   ]
  },
  {
   "cell_type": "code",
   "execution_count": 3,
   "metadata": {},
   "outputs": [],
   "source": [
    "from pyspark.sql import SparkSession"
   ]
  },
  {
   "cell_type": "code",
   "execution_count": 4,
   "metadata": {},
   "outputs": [],
   "source": [
    "spark = SparkSession.builder.appName('churn').getOrCreate()"
   ]
  },
  {
   "cell_type": "code",
   "execution_count": 5,
   "metadata": {},
   "outputs": [],
   "source": [
    "data = spark.read.csv('customer_churn.csv',inferSchema = True, header = True)"
   ]
  },
  {
   "cell_type": "code",
   "execution_count": 6,
   "metadata": {},
   "outputs": [
    {
     "name": "stdout",
     "output_type": "stream",
     "text": [
      "root\n",
      " |-- Names: string (nullable = true)\n",
      " |-- Age: double (nullable = true)\n",
      " |-- Total_Purchase: double (nullable = true)\n",
      " |-- Account_Manager: integer (nullable = true)\n",
      " |-- Years: double (nullable = true)\n",
      " |-- Num_Sites: double (nullable = true)\n",
      " |-- Onboard_date: timestamp (nullable = true)\n",
      " |-- Location: string (nullable = true)\n",
      " |-- Company: string (nullable = true)\n",
      " |-- Churn: integer (nullable = true)\n",
      "\n"
     ]
    }
   ],
   "source": [
    "data.printSchema()"
   ]
  },
  {
   "cell_type": "code",
   "execution_count": 7,
   "metadata": {},
   "outputs": [],
   "source": [
    "new_data= data.select(['Age','Total_Purchase','Years','Num_Sites','Churn'])"
   ]
  },
  {
   "cell_type": "code",
   "execution_count": 8,
   "metadata": {},
   "outputs": [],
   "source": [
    "from pyspark.sql.functions import dayofyear,year,month"
   ]
  },
  {
   "cell_type": "code",
   "execution_count": null,
   "metadata": {},
   "outputs": [],
   "source": []
  },
  {
   "cell_type": "code",
   "execution_count": null,
   "metadata": {},
   "outputs": [],
   "source": []
  },
  {
   "cell_type": "code",
   "execution_count": 9,
   "metadata": {},
   "outputs": [
    {
     "name": "stdout",
     "output_type": "stream",
     "text": [
      "+----+--------------+-----+---------+-----+\n",
      "| Age|Total_Purchase|Years|Num_Sites|Churn|\n",
      "+----+--------------+-----+---------+-----+\n",
      "|42.0|       11066.8| 7.22|      8.0|    1|\n",
      "|41.0|      11916.22|  6.5|     11.0|    1|\n",
      "|38.0|      12884.75| 6.67|     12.0|    1|\n",
      "|42.0|       8010.76| 6.71|     10.0|    1|\n",
      "|37.0|       9191.58| 5.56|      9.0|    1|\n",
      "|48.0|      10356.02| 5.12|      8.0|    1|\n",
      "|44.0|      11331.58| 5.23|     11.0|    1|\n",
      "|32.0|       9885.12| 6.92|      9.0|    1|\n",
      "|43.0|       14062.6| 5.46|     11.0|    1|\n",
      "|40.0|       8066.94| 7.11|     11.0|    1|\n",
      "|30.0|      11575.37| 5.22|      8.0|    1|\n",
      "|45.0|       8771.02| 6.64|     11.0|    1|\n",
      "|45.0|       8988.67| 4.84|     11.0|    1|\n",
      "|40.0|       8283.32|  5.1|     13.0|    1|\n",
      "|41.0|       6569.87|  4.3|     11.0|    1|\n",
      "|38.0|      10494.82| 6.81|     12.0|    1|\n",
      "|45.0|       8213.41| 7.35|     11.0|    1|\n",
      "|43.0|      11226.88| 8.08|     12.0|    1|\n",
      "|53.0|       5515.09| 6.85|      8.0|    1|\n",
      "|46.0|        8046.4| 5.69|      8.0|    1|\n",
      "+----+--------------+-----+---------+-----+\n",
      "only showing top 20 rows\n",
      "\n"
     ]
    }
   ],
   "source": [
    "new_data.show()"
   ]
  },
  {
   "cell_type": "code",
   "execution_count": 10,
   "metadata": {},
   "outputs": [
    {
     "data": {
      "text/plain": [
       "['Age', 'Total_Purchase', 'Years', 'Num_Sites', 'Churn']"
      ]
     },
     "execution_count": 10,
     "metadata": {},
     "output_type": "execute_result"
    }
   ],
   "source": [
    "new_data.columns"
   ]
  },
  {
   "cell_type": "code",
   "execution_count": 11,
   "metadata": {},
   "outputs": [],
   "source": [
    "df = new_data.select(['Age', 'Total_Purchase', 'Years', 'Num_Sites'])"
   ]
  },
  {
   "cell_type": "code",
   "execution_count": 12,
   "metadata": {},
   "outputs": [
    {
     "name": "stdout",
     "output_type": "stream",
     "text": [
      "+----+--------------+-----+---------+\n",
      "| Age|Total_Purchase|Years|Num_Sites|\n",
      "+----+--------------+-----+---------+\n",
      "|42.0|       11066.8| 7.22|      8.0|\n",
      "|41.0|      11916.22|  6.5|     11.0|\n",
      "|38.0|      12884.75| 6.67|     12.0|\n",
      "|42.0|       8010.76| 6.71|     10.0|\n",
      "|37.0|       9191.58| 5.56|      9.0|\n",
      "|48.0|      10356.02| 5.12|      8.0|\n",
      "|44.0|      11331.58| 5.23|     11.0|\n",
      "|32.0|       9885.12| 6.92|      9.0|\n",
      "|43.0|       14062.6| 5.46|     11.0|\n",
      "|40.0|       8066.94| 7.11|     11.0|\n",
      "|30.0|      11575.37| 5.22|      8.0|\n",
      "|45.0|       8771.02| 6.64|     11.0|\n",
      "|45.0|       8988.67| 4.84|     11.0|\n",
      "|40.0|       8283.32|  5.1|     13.0|\n",
      "|41.0|       6569.87|  4.3|     11.0|\n",
      "|38.0|      10494.82| 6.81|     12.0|\n",
      "|45.0|       8213.41| 7.35|     11.0|\n",
      "|43.0|      11226.88| 8.08|     12.0|\n",
      "|53.0|       5515.09| 6.85|      8.0|\n",
      "|46.0|        8046.4| 5.69|      8.0|\n",
      "+----+--------------+-----+---------+\n",
      "only showing top 20 rows\n",
      "\n"
     ]
    }
   ],
   "source": [
    "df.show()"
   ]
  },
  {
   "cell_type": "code",
   "execution_count": 13,
   "metadata": {},
   "outputs": [],
   "source": [
    "from pyspark.ml.linalg import Vectors\n",
    "from pyspark.ml.feature import VectorAssembler\n",
    "from pyspark.ml.classification import LogisticRegression"
   ]
  },
  {
   "cell_type": "code",
   "execution_count": 14,
   "metadata": {},
   "outputs": [
    {
     "data": {
      "text/plain": [
       "['Age', 'Total_Purchase', 'Years', 'Num_Sites']"
      ]
     },
     "execution_count": 14,
     "metadata": {},
     "output_type": "execute_result"
    }
   ],
   "source": [
    "df.columns"
   ]
  },
  {
   "cell_type": "code",
   "execution_count": 15,
   "metadata": {},
   "outputs": [],
   "source": [
    "assembler = VectorAssembler(inputCols = df.columns, outputCol = 'features')"
   ]
  },
  {
   "cell_type": "code",
   "execution_count": 16,
   "metadata": {},
   "outputs": [],
   "source": [
    "final_data = assembler.transform(new_data)"
   ]
  },
  {
   "cell_type": "code",
   "execution_count": 17,
   "metadata": {},
   "outputs": [
    {
     "name": "stdout",
     "output_type": "stream",
     "text": [
      "+----+--------------+-----+---------+-----+--------------------+\n",
      "| Age|Total_Purchase|Years|Num_Sites|Churn|            features|\n",
      "+----+--------------+-----+---------+-----+--------------------+\n",
      "|42.0|       11066.8| 7.22|      8.0|    1|[42.0,11066.8,7.2...|\n",
      "|41.0|      11916.22|  6.5|     11.0|    1|[41.0,11916.22,6....|\n",
      "|38.0|      12884.75| 6.67|     12.0|    1|[38.0,12884.75,6....|\n",
      "|42.0|       8010.76| 6.71|     10.0|    1|[42.0,8010.76,6.7...|\n",
      "|37.0|       9191.58| 5.56|      9.0|    1|[37.0,9191.58,5.5...|\n",
      "|48.0|      10356.02| 5.12|      8.0|    1|[48.0,10356.02,5....|\n",
      "|44.0|      11331.58| 5.23|     11.0|    1|[44.0,11331.58,5....|\n",
      "|32.0|       9885.12| 6.92|      9.0|    1|[32.0,9885.12,6.9...|\n",
      "|43.0|       14062.6| 5.46|     11.0|    1|[43.0,14062.6,5.4...|\n",
      "|40.0|       8066.94| 7.11|     11.0|    1|[40.0,8066.94,7.1...|\n",
      "|30.0|      11575.37| 5.22|      8.0|    1|[30.0,11575.37,5....|\n",
      "|45.0|       8771.02| 6.64|     11.0|    1|[45.0,8771.02,6.6...|\n",
      "|45.0|       8988.67| 4.84|     11.0|    1|[45.0,8988.67,4.8...|\n",
      "|40.0|       8283.32|  5.1|     13.0|    1|[40.0,8283.32,5.1...|\n",
      "|41.0|       6569.87|  4.3|     11.0|    1|[41.0,6569.87,4.3...|\n",
      "|38.0|      10494.82| 6.81|     12.0|    1|[38.0,10494.82,6....|\n",
      "|45.0|       8213.41| 7.35|     11.0|    1|[45.0,8213.41,7.3...|\n",
      "|43.0|      11226.88| 8.08|     12.0|    1|[43.0,11226.88,8....|\n",
      "|53.0|       5515.09| 6.85|      8.0|    1|[53.0,5515.09,6.8...|\n",
      "|46.0|        8046.4| 5.69|      8.0|    1|[46.0,8046.4,5.69...|\n",
      "+----+--------------+-----+---------+-----+--------------------+\n",
      "only showing top 20 rows\n",
      "\n"
     ]
    }
   ],
   "source": [
    "final_data.show()"
   ]
  },
  {
   "cell_type": "code",
   "execution_count": 18,
   "metadata": {},
   "outputs": [],
   "source": [
    "data_select = final_data.select(['Churn','features'])"
   ]
  },
  {
   "cell_type": "code",
   "execution_count": 19,
   "metadata": {},
   "outputs": [
    {
     "name": "stdout",
     "output_type": "stream",
     "text": [
      "+-----+--------------------+\n",
      "|Churn|            features|\n",
      "+-----+--------------------+\n",
      "|    1|[42.0,11066.8,7.2...|\n",
      "|    1|[41.0,11916.22,6....|\n",
      "|    1|[38.0,12884.75,6....|\n",
      "|    1|[42.0,8010.76,6.7...|\n",
      "|    1|[37.0,9191.58,5.5...|\n",
      "|    1|[48.0,10356.02,5....|\n",
      "|    1|[44.0,11331.58,5....|\n",
      "|    1|[32.0,9885.12,6.9...|\n",
      "|    1|[43.0,14062.6,5.4...|\n",
      "|    1|[40.0,8066.94,7.1...|\n",
      "|    1|[30.0,11575.37,5....|\n",
      "|    1|[45.0,8771.02,6.6...|\n",
      "|    1|[45.0,8988.67,4.8...|\n",
      "|    1|[40.0,8283.32,5.1...|\n",
      "|    1|[41.0,6569.87,4.3...|\n",
      "|    1|[38.0,10494.82,6....|\n",
      "|    1|[45.0,8213.41,7.3...|\n",
      "|    1|[43.0,11226.88,8....|\n",
      "|    1|[53.0,5515.09,6.8...|\n",
      "|    1|[46.0,8046.4,5.69...|\n",
      "+-----+--------------------+\n",
      "only showing top 20 rows\n",
      "\n"
     ]
    }
   ],
   "source": [
    "data_select.show()"
   ]
  },
  {
   "cell_type": "code",
   "execution_count": 20,
   "metadata": {},
   "outputs": [],
   "source": [
    "lg_model = LogisticRegression(labelCol = 'Churn')"
   ]
  },
  {
   "cell_type": "code",
   "execution_count": 21,
   "metadata": {},
   "outputs": [],
   "source": [
    "my_model = lg_model.fit(data_select)"
   ]
  },
  {
   "cell_type": "code",
   "execution_count": 22,
   "metadata": {},
   "outputs": [],
   "source": [
    "model_summary = my_model.summary"
   ]
  },
  {
   "cell_type": "code",
   "execution_count": 23,
   "metadata": {},
   "outputs": [
    {
     "data": {
      "text/plain": [
       "0.8988888888888888"
      ]
     },
     "execution_count": 23,
     "metadata": {},
     "output_type": "execute_result"
    }
   ],
   "source": [
    "model_summary.accuracy"
   ]
  },
  {
   "cell_type": "code",
   "execution_count": 24,
   "metadata": {},
   "outputs": [
    {
     "name": "stdout",
     "output_type": "stream",
     "text": [
      "+-----+--------------------+--------------------+--------------------+----------+\n",
      "|Churn|            features|       rawPrediction|         probability|prediction|\n",
      "+-----+--------------------+--------------------+--------------------+----------+\n",
      "|  1.0|[42.0,11066.8,7.2...|[2.36675117437238...|[0.91425652266606...|       0.0|\n",
      "|  1.0|[41.0,11916.22,6....|[-0.7999397979939...|[0.31003839681250...|       1.0|\n",
      "|  1.0|[38.0,12884.75,6....|[-1.9595409361309...|[0.12351673739297...|       1.0|\n",
      "|  1.0|[42.0,8010.76,6.7...|[0.36499055377901...|[0.59024796731348...|       0.0|\n",
      "|  1.0|[37.0,9191.58,5.5...|[2.47184489317977...|[0.92214432064823...|       0.0|\n",
      "|  1.0|[48.0,10356.02,5....|[3.24356725803294...|[0.96244127192005...|       0.0|\n",
      "|  1.0|[44.0,11331.58,5....|[-0.2275403112572...|[0.44335909156700...|       1.0|\n",
      "|  1.0|[32.0,9885.12,6.9...|[1.96034031135884...|[0.87656977721006...|       0.0|\n",
      "|  1.0|[43.0,14062.6,5.4...|[-0.3995775862127...|[0.40141383356855...|       1.0|\n",
      "|  1.0|[40.0,8066.94,7.1...|[-0.9511653301786...|[0.27865052506292...|       1.0|\n",
      "|  1.0|[30.0,11575.37,5....|[4.18864549812751...|[0.98505978108327...|       0.0|\n",
      "|  1.0|[45.0,8771.02,6.6...|[-0.9987187442819...|[0.26919340609807...|       1.0|\n",
      "|  1.0|[45.0,8988.67,4.8...|[0.02188322048384...|[0.50547058681194...|       0.0|\n",
      "|  1.0|[40.0,8283.32,5.1...|[-2.2141917708224...|[0.09848328274686...|       1.0|\n",
      "|  1.0|[41.0,6569.87,4.3...|[0.65039719414105...|[0.65709996388264...|       0.0|\n",
      "|  1.0|[38.0,10494.82,6....|[-1.9531169797909...|[0.12421388082620...|       1.0|\n",
      "|  1.0|[45.0,8213.41,7.3...|[-1.3842314296811...|[0.20033027331243...|       1.0|\n",
      "|  1.0|[43.0,11226.88,8....|[-2.9958715684120...|[0.04761273078998...|       1.0|\n",
      "|  1.0|[53.0,5515.09,6.8...|[2.13949176369050...|[0.89468273124116...|       0.0|\n",
      "|  1.0|[46.0,8046.4,5.69...|[3.11765298385998...|[0.95761506866105...|       0.0|\n",
      "+-----+--------------------+--------------------+--------------------+----------+\n",
      "only showing top 20 rows\n",
      "\n"
     ]
    }
   ],
   "source": [
    "model_summary.predictions.show()"
   ]
  },
  {
   "cell_type": "code",
   "execution_count": 25,
   "metadata": {},
   "outputs": [],
   "source": [
    "train_data, test_data = data_select.randomSplit([0.7,0.3])"
   ]
  },
  {
   "cell_type": "code",
   "execution_count": 26,
   "metadata": {},
   "outputs": [],
   "source": [
    "new_model = lg_model.fit(train_data)"
   ]
  },
  {
   "cell_type": "code",
   "execution_count": 27,
   "metadata": {},
   "outputs": [],
   "source": [
    "test_result = new_model.evaluate(test_data)"
   ]
  },
  {
   "cell_type": "code",
   "execution_count": 28,
   "metadata": {},
   "outputs": [
    {
     "data": {
      "text/plain": [
       "0.8971631205673759"
      ]
     },
     "execution_count": 28,
     "metadata": {},
     "output_type": "execute_result"
    }
   ],
   "source": [
    "test_result.accuracy"
   ]
  },
  {
   "cell_type": "code",
   "execution_count": 29,
   "metadata": {},
   "outputs": [
    {
     "name": "stdout",
     "output_type": "stream",
     "text": [
      "+-----+--------------------+--------------------+--------------------+----------+\n",
      "|Churn|            features|       rawPrediction|         probability|prediction|\n",
      "+-----+--------------------+--------------------+--------------------+----------+\n",
      "|    0|[28.0,9090.43,5.7...|[1.71920096709085...|[0.84802588722859...|       0.0|\n",
      "|    0|[28.0,11245.38,6....|[3.61823055819813...|[0.97387093677792...|       0.0|\n",
      "|    0|[29.0,12711.15,5....|[5.43649560370781...|[0.99566416412202...|       0.0|\n",
      "|    0|[29.0,13240.01,4....|[7.41445507644116...|[0.99939788215477...|       0.0|\n",
      "|    0|[29.0,13255.05,4....|[4.74272988223440...|[0.99136046874556...|       0.0|\n",
      "|    0|[30.0,8677.28,7.3...|[4.31255327863374...|[0.98677787340814...|       0.0|\n",
      "|    0|[30.0,10960.52,5....|[2.72630364430196...|[0.93856103492819...|       0.0|\n",
      "|    0|[31.0,5387.75,6.8...|[2.01514402618586...|[0.88237795675806...|       0.0|\n",
      "|    0|[31.0,8688.21,3.5...|[6.59669906089006...|[0.99863699437078...|       0.0|\n",
      "|    0|[31.0,9574.89,7.3...|[3.00808601095088...|[0.95293809186750...|       0.0|\n",
      "|    0|[31.0,10058.87,6....|[4.75869308951532...|[0.99149612493043...|       0.0|\n",
      "|    0|[31.0,10182.6,3.7...|[5.26559365949214...|[0.99486022864980...|       0.0|\n",
      "|    0|[32.0,10716.75,5....|[4.36237652958528...|[0.98741241178293...|       0.0|\n",
      "|    0|[32.0,12403.6,4.9...|[5.71302681318026...|[0.99670821079999...|       0.0|\n",
      "|    0|[33.0,7750.54,4.5...|[4.59175786695120...|[0.98996666147694...|       0.0|\n",
      "|    0|[33.0,8556.73,4.2...|[3.59436511091637...|[0.97325673162356...|       0.0|\n",
      "|    0|[34.0,5447.16,4.1...|[3.52539840399650...|[0.97140185555710...|       0.0|\n",
      "|    0|[34.0,6131.92,4.1...|[3.51256111658034...|[0.97104306568522...|       0.0|\n",
      "|    0|[34.0,6461.86,4.6...|[4.48007535097394...|[0.98879442859819...|       0.0|\n",
      "|    0|[34.0,8772.26,5.7...|[2.54696527510812...|[0.92736937439143...|       0.0|\n",
      "+-----+--------------------+--------------------+--------------------+----------+\n",
      "only showing top 20 rows\n",
      "\n"
     ]
    }
   ],
   "source": [
    "test_result.predictions.show()"
   ]
  },
  {
   "cell_type": "code",
   "execution_count": 30,
   "metadata": {},
   "outputs": [],
   "source": [
    "#Using Binary Evaluator\n",
    "from pyspark.ml.evaluation import BinaryClassificationEvaluator"
   ]
  },
  {
   "cell_type": "code",
   "execution_count": 31,
   "metadata": {},
   "outputs": [],
   "source": [
    "churn_eval = BinaryClassificationEvaluator(rawPredictionCol = 'prediction',labelCol = 'Churn')"
   ]
  },
  {
   "cell_type": "code",
   "execution_count": 32,
   "metadata": {},
   "outputs": [],
   "source": [
    "my_final_roc = churn_eval.evaluate(test_result.predictions)"
   ]
  },
  {
   "cell_type": "code",
   "execution_count": 33,
   "metadata": {},
   "outputs": [
    {
     "data": {
      "text/plain": [
       "0.7766050626259087"
      ]
     },
     "execution_count": 33,
     "metadata": {},
     "output_type": "execute_result"
    }
   ],
   "source": [
    "my_final_roc"
   ]
  },
  {
   "cell_type": "markdown",
   "metadata": {},
   "source": [
    "# TESTING THE NEW MODEL ON NEW_CUSTOMERS DATA"
   ]
  },
  {
   "cell_type": "code",
   "execution_count": 34,
   "metadata": {},
   "outputs": [],
   "source": [
    "new_customer = spark.read.csv('new_customers.csv', inferSchema = True, header = True)"
   ]
  },
  {
   "cell_type": "code",
   "execution_count": 35,
   "metadata": {},
   "outputs": [
    {
     "name": "stdout",
     "output_type": "stream",
     "text": [
      "+--------------+----+--------------+---------------+-----+---------+-------------------+--------------------+----------------+\n",
      "|         Names| Age|Total_Purchase|Account_Manager|Years|Num_Sites|       Onboard_date|            Location|         Company|\n",
      "+--------------+----+--------------+---------------+-----+---------+-------------------+--------------------+----------------+\n",
      "| Andrew Mccall|37.0|       9935.53|              1| 7.71|      8.0|2011-08-29 18:37:54|38612 Johnny Stra...|        King Ltd|\n",
      "|Michele Wright|23.0|       7526.94|              1| 9.28|     15.0|2013-07-22 18:19:54|21083 Nicole Junc...|   Cannon-Benson|\n",
      "|  Jeremy Chang|65.0|         100.0|              1|  1.0|     15.0|2006-12-11 07:48:13|085 Austin Views ...|Barron-Robertson|\n",
      "|Megan Ferguson|32.0|        6487.5|              0|  9.4|     14.0|2016-10-28 05:32:13|922 Wright Branch...|   Sexton-Golden|\n",
      "|  Taylor Young|32.0|      13147.71|              1| 10.0|      8.0|2012-03-20 00:36:46|Unit 0789 Box 073...|        Wood LLC|\n",
      "| Jessica Drake|22.0|       8445.26|              1| 3.46|     14.0|2011-02-04 19:29:27|1148 Tina Straven...|   Parks-Robbins|\n",
      "+--------------+----+--------------+---------------+-----+---------+-------------------+--------------------+----------------+\n",
      "\n"
     ]
    }
   ],
   "source": [
    "new_customer.show()"
   ]
  },
  {
   "cell_type": "code",
   "execution_count": null,
   "metadata": {},
   "outputs": [],
   "source": []
  },
  {
   "cell_type": "code",
   "execution_count": 36,
   "metadata": {},
   "outputs": [
    {
     "data": {
      "text/plain": [
       "['Names',\n",
       " 'Age',\n",
       " 'Total_Purchase',\n",
       " 'Account_Manager',\n",
       " 'Years',\n",
       " 'Num_Sites',\n",
       " 'Onboard_date',\n",
       " 'Location',\n",
       " 'Company']"
      ]
     },
     "execution_count": 36,
     "metadata": {},
     "output_type": "execute_result"
    }
   ],
   "source": [
    "new_customer.columns"
   ]
  },
  {
   "cell_type": "code",
   "execution_count": 37,
   "metadata": {},
   "outputs": [],
   "source": [
    "test11_data = assembler.transform(new_customer)"
   ]
  },
  {
   "cell_type": "code",
   "execution_count": 38,
   "metadata": {},
   "outputs": [
    {
     "data": {
      "text/plain": [
       "['Names',\n",
       " 'Age',\n",
       " 'Total_Purchase',\n",
       " 'Account_Manager',\n",
       " 'Years',\n",
       " 'Num_Sites',\n",
       " 'Onboard_date',\n",
       " 'Location',\n",
       " 'Company',\n",
       " 'features']"
      ]
     },
     "execution_count": 38,
     "metadata": {},
     "output_type": "execute_result"
    }
   ],
   "source": [
    "test11_data.columns"
   ]
  },
  {
   "cell_type": "code",
   "execution_count": 39,
   "metadata": {},
   "outputs": [],
   "source": [
    "test_model = new_model.transform(test11_data)"
   ]
  },
  {
   "cell_type": "code",
   "execution_count": 40,
   "metadata": {},
   "outputs": [],
   "source": [
    "final_prediction = test_model.select(['Company','prediction'])"
   ]
  },
  {
   "cell_type": "code",
   "execution_count": 41,
   "metadata": {},
   "outputs": [
    {
     "name": "stdout",
     "output_type": "stream",
     "text": [
      "+----------------+----------+\n",
      "|         Company|prediction|\n",
      "+----------------+----------+\n",
      "|        King Ltd|       0.0|\n",
      "|   Cannon-Benson|       1.0|\n",
      "|Barron-Robertson|       1.0|\n",
      "|   Sexton-Golden|       1.0|\n",
      "|        Wood LLC|       0.0|\n",
      "|   Parks-Robbins|       1.0|\n",
      "+----------------+----------+\n",
      "\n"
     ]
    }
   ],
   "source": [
    "final_prediction.show()"
   ]
  },
  {
   "cell_type": "code",
   "execution_count": null,
   "metadata": {},
   "outputs": [],
   "source": []
  },
  {
   "cell_type": "code",
   "execution_count": null,
   "metadata": {},
   "outputs": [],
   "source": []
  },
  {
   "cell_type": "code",
   "execution_count": 42,
   "metadata": {},
   "outputs": [],
   "source": [
    "\n"
   ]
  },
  {
   "cell_type": "code",
   "execution_count": null,
   "metadata": {},
   "outputs": [],
   "source": []
  }
 ],
 "metadata": {
  "kernelspec": {
   "display_name": "Python 3",
   "language": "python",
   "name": "python3"
  },
  "language_info": {
   "codemirror_mode": {
    "name": "ipython",
    "version": 3
   },
   "file_extension": ".py",
   "mimetype": "text/x-python",
   "name": "python",
   "nbconvert_exporter": "python",
   "pygments_lexer": "ipython3",
   "version": "3.7.1"
  }
 },
 "nbformat": 4,
 "nbformat_minor": 2
}
